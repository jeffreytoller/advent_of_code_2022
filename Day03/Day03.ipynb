{
 "cells": [
  {
   "cell_type": "code",
   "execution_count": 1,
   "metadata": {},
   "outputs": [],
   "source": [
    "letters  = []\n",
    "for i in range(ord('a'), ord('z')+1):\n",
    "    letters.append(chr(i))\n",
    "for i in range(ord('A'), ord('Z')+1):\n",
    "    letters.append(chr(i))"
   ]
  },
  {
   "cell_type": "code",
   "execution_count": 2,
   "metadata": {},
   "outputs": [],
   "source": [
    "import pandas as pd"
   ]
  },
  {
   "cell_type": "code",
   "execution_count": 3,
   "metadata": {},
   "outputs": [],
   "source": [
    "df = pd.read_csv('Day03_data.txt',header=None)\n",
    "df = df.rename(columns={0:'contents'})"
   ]
  },
  {
   "cell_type": "code",
   "execution_count": 4,
   "metadata": {},
   "outputs": [],
   "source": [
    "def split_first_half(val):\n",
    "    return(val[:len(val)//2])\n",
    "\n",
    "def split_second_half(val):\n",
    "    return(val[len(val)//2:])"
   ]
  },
  {
   "cell_type": "code",
   "execution_count": 5,
   "metadata": {},
   "outputs": [],
   "source": [
    "def present_in_both(value):\n",
    "    ans = []\n",
    "    first_val = split_first_half(value)\n",
    "    second_val = split_second_half(value)\n",
    "    for v in first_val:\n",
    "        if v in second_val:\n",
    "            ans.append(v)\n",
    "    return(list(set(ans)))"
   ]
  },
  {
   "cell_type": "code",
   "execution_count": 6,
   "metadata": {},
   "outputs": [],
   "source": [
    "df['in_both'] = df.contents.apply(present_in_both)"
   ]
  },
  {
   "cell_type": "code",
   "execution_count": 7,
   "metadata": {},
   "outputs": [],
   "source": [
    "def replace_with_num(text):\n",
    "    ans = 0\n",
    "    for d in text:\n",
    "        ans += letters.index(d)+1\n",
    "    return(ans)"
   ]
  },
  {
   "cell_type": "code",
   "execution_count": 13,
   "metadata": {},
   "outputs": [],
   "source": [
    "df['priority_sum'] = df.in_both.apply(replace_with_num)"
   ]
  },
  {
   "cell_type": "code",
   "execution_count": 29,
   "metadata": {},
   "outputs": [
    {
     "name": "stdout",
     "output_type": "stream",
     "text": [
      "7831\n"
     ]
    }
   ],
   "source": [
    "print(df.priority_sum.sum())"
   ]
  },
  {
   "cell_type": "code",
   "execution_count": 24,
   "metadata": {},
   "outputs": [],
   "source": [
    "ans=[]\n",
    "for x in list(pd.Series(range(0,100))*3):\n",
    "    values1 = list(set(df.contents[x]))\n",
    "    values2 = list(set(df.contents[x+1]))\n",
    "    values3 = list(set(df.contents[x+2]))\n",
    "    for y in values1:\n",
    "        if (y in values2) and (y in values3):\n",
    "            ans.append(letters.index(y)+1)"
   ]
  },
  {
   "cell_type": "code",
   "execution_count": 27,
   "metadata": {},
   "outputs": [],
   "source": [
    "ans = pd.Series(ans)\n",
    "ans_sum = ans.sum()"
   ]
  },
  {
   "cell_type": "code",
   "execution_count": 28,
   "metadata": {},
   "outputs": [
    {
     "name": "stdout",
     "output_type": "stream",
     "text": [
      "2683\n"
     ]
    }
   ],
   "source": [
    "print(ans_sum)"
   ]
  },
  {
   "cell_type": "code",
   "execution_count": null,
   "metadata": {},
   "outputs": [],
   "source": []
  }
 ],
 "metadata": {
  "kernelspec": {
   "display_name": "base",
   "language": "python",
   "name": "python3"
  },
  "language_info": {
   "codemirror_mode": {
    "name": "ipython",
    "version": 3
   },
   "file_extension": ".py",
   "mimetype": "text/x-python",
   "name": "python",
   "nbconvert_exporter": "python",
   "pygments_lexer": "ipython3",
   "version": "3.9.12"
  },
  "orig_nbformat": 4,
  "vscode": {
   "interpreter": {
    "hash": "3f0653bd30555679cc60e5853b2204587bc8607f0666d413a468e937b04317b4"
   }
  }
 },
 "nbformat": 4,
 "nbformat_minor": 2
}
