{
 "cells": [
  {
   "cell_type": "markdown",
   "metadata": {},
   "source": [
    "# Day 1\n",
    "\n",
    "Read file and split into list"
   ]
  },
  {
   "cell_type": "code",
   "execution_count": 21,
   "metadata": {},
   "outputs": [
    {
     "data": {
      "text/plain": [
       "69836"
      ]
     },
     "execution_count": 21,
     "metadata": {},
     "output_type": "execute_result"
    }
   ],
   "source": [
    "input = open('elvesinput.txt')\n",
    "input = input.read().split('\\n\\n')\n",
    "elf_arrays = list(map(lambda x: x.split(\"\\n\"), input))\n",
    "totals = [sum(map(int, v)) for v in elf_arrays]\n",
    "max(totals)\n"
   ]
  },
  {
   "cell_type": "markdown",
   "metadata": {},
   "source": [
    "Read list into pandas dataframe and set NaNs to 0 to allow summing of rows"
   ]
  },
  {
   "cell_type": "code",
   "execution_count": 2,
   "metadata": {},
   "outputs": [
    {
     "data": {
      "text/html": [
       "<div>\n",
       "<style scoped>\n",
       "    .dataframe tbody tr th:only-of-type {\n",
       "        vertical-align: middle;\n",
       "    }\n",
       "\n",
       "    .dataframe tbody tr th {\n",
       "        vertical-align: top;\n",
       "    }\n",
       "\n",
       "    .dataframe thead th {\n",
       "        text-align: right;\n",
       "    }\n",
       "</style>\n",
       "<table border=\"1\" class=\"dataframe\">\n",
       "  <thead>\n",
       "    <tr style=\"text-align: right;\">\n",
       "      <th></th>\n",
       "      <th>0</th>\n",
       "      <th>1</th>\n",
       "      <th>2</th>\n",
       "      <th>3</th>\n",
       "      <th>4</th>\n",
       "      <th>5</th>\n",
       "      <th>6</th>\n",
       "      <th>7</th>\n",
       "      <th>8</th>\n",
       "      <th>9</th>\n",
       "      <th>10</th>\n",
       "      <th>11</th>\n",
       "      <th>12</th>\n",
       "      <th>13</th>\n",
       "      <th>14</th>\n",
       "    </tr>\n",
       "  </thead>\n",
       "  <tbody>\n",
       "    <tr>\n",
       "      <th>0</th>\n",
       "      <td>9057</td>\n",
       "      <td>8878</td>\n",
       "      <td>2753</td>\n",
       "      <td>7027</td>\n",
       "      <td>3880</td>\n",
       "      <td>7154</td>\n",
       "      <td>8022</td>\n",
       "      <td>6710</td>\n",
       "      <td>5721</td>\n",
       "      <td>0</td>\n",
       "      <td>0</td>\n",
       "      <td>0</td>\n",
       "      <td>0</td>\n",
       "      <td>0</td>\n",
       "      <td>0</td>\n",
       "    </tr>\n",
       "    <tr>\n",
       "      <th>1</th>\n",
       "      <td>4863</td>\n",
       "      <td>3690</td>\n",
       "      <td>3333</td>\n",
       "      <td>1831</td>\n",
       "      <td>5293</td>\n",
       "      <td>6258</td>\n",
       "      <td>1212</td>\n",
       "      <td>4255</td>\n",
       "      <td>2331</td>\n",
       "      <td>3785</td>\n",
       "      <td>1505</td>\n",
       "      <td>3355</td>\n",
       "      <td>3353</td>\n",
       "      <td>4416</td>\n",
       "      <td>0</td>\n",
       "    </tr>\n",
       "    <tr>\n",
       "      <th>2</th>\n",
       "      <td>5918</td>\n",
       "      <td>3076</td>\n",
       "      <td>2145</td>\n",
       "      <td>2712</td>\n",
       "      <td>6087</td>\n",
       "      <td>4310</td>\n",
       "      <td>1084</td>\n",
       "      <td>5807</td>\n",
       "      <td>1342</td>\n",
       "      <td>2770</td>\n",
       "      <td>5095</td>\n",
       "      <td>4696</td>\n",
       "      <td>5842</td>\n",
       "      <td>4555</td>\n",
       "      <td>5388</td>\n",
       "    </tr>\n",
       "    <tr>\n",
       "      <th>3</th>\n",
       "      <td>20770</td>\n",
       "      <td>0</td>\n",
       "      <td>0</td>\n",
       "      <td>0</td>\n",
       "      <td>0</td>\n",
       "      <td>0</td>\n",
       "      <td>0</td>\n",
       "      <td>0</td>\n",
       "      <td>0</td>\n",
       "      <td>0</td>\n",
       "      <td>0</td>\n",
       "      <td>0</td>\n",
       "      <td>0</td>\n",
       "      <td>0</td>\n",
       "      <td>0</td>\n",
       "    </tr>\n",
       "    <tr>\n",
       "      <th>4</th>\n",
       "      <td>3968</td>\n",
       "      <td>15647</td>\n",
       "      <td>3933</td>\n",
       "      <td>15427</td>\n",
       "      <td>16179</td>\n",
       "      <td>0</td>\n",
       "      <td>0</td>\n",
       "      <td>0</td>\n",
       "      <td>0</td>\n",
       "      <td>0</td>\n",
       "      <td>0</td>\n",
       "      <td>0</td>\n",
       "      <td>0</td>\n",
       "      <td>0</td>\n",
       "      <td>0</td>\n",
       "    </tr>\n",
       "    <tr>\n",
       "      <th>...</th>\n",
       "      <td>...</td>\n",
       "      <td>...</td>\n",
       "      <td>...</td>\n",
       "      <td>...</td>\n",
       "      <td>...</td>\n",
       "      <td>...</td>\n",
       "      <td>...</td>\n",
       "      <td>...</td>\n",
       "      <td>...</td>\n",
       "      <td>...</td>\n",
       "      <td>...</td>\n",
       "      <td>...</td>\n",
       "      <td>...</td>\n",
       "      <td>...</td>\n",
       "      <td>...</td>\n",
       "    </tr>\n",
       "    <tr>\n",
       "      <th>242</th>\n",
       "      <td>2656</td>\n",
       "      <td>3600</td>\n",
       "      <td>5148</td>\n",
       "      <td>2300</td>\n",
       "      <td>5547</td>\n",
       "      <td>8226</td>\n",
       "      <td>6952</td>\n",
       "      <td>2611</td>\n",
       "      <td>2268</td>\n",
       "      <td>6490</td>\n",
       "      <td>0</td>\n",
       "      <td>0</td>\n",
       "      <td>0</td>\n",
       "      <td>0</td>\n",
       "      <td>0</td>\n",
       "    </tr>\n",
       "    <tr>\n",
       "      <th>243</th>\n",
       "      <td>5499</td>\n",
       "      <td>8937</td>\n",
       "      <td>12091</td>\n",
       "      <td>1429</td>\n",
       "      <td>9253</td>\n",
       "      <td>2187</td>\n",
       "      <td>2660</td>\n",
       "      <td>0</td>\n",
       "      <td>0</td>\n",
       "      <td>0</td>\n",
       "      <td>0</td>\n",
       "      <td>0</td>\n",
       "      <td>0</td>\n",
       "      <td>0</td>\n",
       "      <td>0</td>\n",
       "    </tr>\n",
       "    <tr>\n",
       "      <th>244</th>\n",
       "      <td>12898</td>\n",
       "      <td>0</td>\n",
       "      <td>0</td>\n",
       "      <td>0</td>\n",
       "      <td>0</td>\n",
       "      <td>0</td>\n",
       "      <td>0</td>\n",
       "      <td>0</td>\n",
       "      <td>0</td>\n",
       "      <td>0</td>\n",
       "      <td>0</td>\n",
       "      <td>0</td>\n",
       "      <td>0</td>\n",
       "      <td>0</td>\n",
       "      <td>0</td>\n",
       "    </tr>\n",
       "    <tr>\n",
       "      <th>245</th>\n",
       "      <td>3536</td>\n",
       "      <td>3120</td>\n",
       "      <td>6811</td>\n",
       "      <td>2427</td>\n",
       "      <td>2710</td>\n",
       "      <td>2100</td>\n",
       "      <td>2030</td>\n",
       "      <td>7003</td>\n",
       "      <td>3932</td>\n",
       "      <td>3514</td>\n",
       "      <td>6390</td>\n",
       "      <td>6017</td>\n",
       "      <td>0</td>\n",
       "      <td>0</td>\n",
       "      <td>0</td>\n",
       "    </tr>\n",
       "    <tr>\n",
       "      <th>246</th>\n",
       "      <td>7645</td>\n",
       "      <td>3909</td>\n",
       "      <td>2219</td>\n",
       "      <td>2290</td>\n",
       "      <td>1401</td>\n",
       "      <td>1812</td>\n",
       "      <td>3180</td>\n",
       "      <td>7733</td>\n",
       "      <td>2547</td>\n",
       "      <td>2653</td>\n",
       "      <td>0</td>\n",
       "      <td>0</td>\n",
       "      <td>0</td>\n",
       "      <td>0</td>\n",
       "      <td>0</td>\n",
       "    </tr>\n",
       "  </tbody>\n",
       "</table>\n",
       "<p>247 rows × 15 columns</p>\n",
       "</div>"
      ],
      "text/plain": [
       "        0      1      2      3      4     5     6     7     8     9     10  \\\n",
       "0     9057   8878   2753   7027   3880  7154  8022  6710  5721     0     0   \n",
       "1     4863   3690   3333   1831   5293  6258  1212  4255  2331  3785  1505   \n",
       "2     5918   3076   2145   2712   6087  4310  1084  5807  1342  2770  5095   \n",
       "3    20770      0      0      0      0     0     0     0     0     0     0   \n",
       "4     3968  15647   3933  15427  16179     0     0     0     0     0     0   \n",
       "..     ...    ...    ...    ...    ...   ...   ...   ...   ...   ...   ...   \n",
       "242   2656   3600   5148   2300   5547  8226  6952  2611  2268  6490     0   \n",
       "243   5499   8937  12091   1429   9253  2187  2660     0     0     0     0   \n",
       "244  12898      0      0      0      0     0     0     0     0     0     0   \n",
       "245   3536   3120   6811   2427   2710  2100  2030  7003  3932  3514  6390   \n",
       "246   7645   3909   2219   2290   1401  1812  3180  7733  2547  2653     0   \n",
       "\n",
       "       11    12    13    14  \n",
       "0       0     0     0     0  \n",
       "1    3355  3353  4416     0  \n",
       "2    4696  5842  4555  5388  \n",
       "3       0     0     0     0  \n",
       "4       0     0     0     0  \n",
       "..    ...   ...   ...   ...  \n",
       "242     0     0     0     0  \n",
       "243     0     0     0     0  \n",
       "244     0     0     0     0  \n",
       "245  6017     0     0     0  \n",
       "246     0     0     0     0  \n",
       "\n",
       "[247 rows x 15 columns]"
      ]
     },
     "execution_count": 2,
     "metadata": {},
     "output_type": "execute_result"
    }
   ],
   "source": [
    "import pandas as pd\n",
    "df = pd.DataFrame(list_input)\n",
    "df.fillna(0,inplace=True)\n",
    "df"
   ]
  },
  {
   "cell_type": "markdown",
   "metadata": {},
   "source": [
    "Reassign dataframe as integers and sum the rows"
   ]
  },
  {
   "cell_type": "code",
   "execution_count": 3,
   "metadata": {},
   "outputs": [],
   "source": [
    "df=df.astype('int64')\n",
    "df['sum_rows'] = df.sum(axis=1)\n"
   ]
  },
  {
   "cell_type": "markdown",
   "metadata": {},
   "source": [
    "## Answer 1:\n",
    "\n",
    "Find the maximum value of the summed rows"
   ]
  },
  {
   "cell_type": "code",
   "execution_count": 4,
   "metadata": {},
   "outputs": [
    {
     "data": {
      "text/plain": [
       "69836"
      ]
     },
     "execution_count": 4,
     "metadata": {},
     "output_type": "execute_result"
    }
   ],
   "source": [
    "df.sum_rows.max()"
   ]
  },
  {
   "cell_type": "markdown",
   "metadata": {},
   "source": [
    "## Answer 2:\n",
    "\n",
    "Sort the summed rows (descending), slice the top three, and sum them."
   ]
  },
  {
   "cell_type": "code",
   "execution_count": 5,
   "metadata": {},
   "outputs": [
    {
     "data": {
      "text/plain": [
       "207968"
      ]
     },
     "execution_count": 5,
     "metadata": {},
     "output_type": "execute_result"
    }
   ],
   "source": [
    "df.sum_rows.sort_values(ascending=False)[:3].sum()"
   ]
  }
 ],
 "metadata": {
  "kernelspec": {
   "display_name": "Python 3.9.12 ('base')",
   "language": "python",
   "name": "python3"
  },
  "language_info": {
   "codemirror_mode": {
    "name": "ipython",
    "version": 3
   },
   "file_extension": ".py",
   "mimetype": "text/x-python",
   "name": "python",
   "nbconvert_exporter": "python",
   "pygments_lexer": "ipython3",
   "version": "3.9.12 (main, Apr  4 2022, 05:22:27) [MSC v.1916 64 bit (AMD64)]"
  },
  "orig_nbformat": 4,
  "vscode": {
   "interpreter": {
    "hash": "3f0653bd30555679cc60e5853b2204587bc8607f0666d413a468e937b04317b4"
   }
  }
 },
 "nbformat": 4,
 "nbformat_minor": 2
}
